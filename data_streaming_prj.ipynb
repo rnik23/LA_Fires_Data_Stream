{
 "cells": [
  {
   "cell_type": "markdown",
   "id": "7e366712",
   "metadata": {},
   "source": [
    "# LA Fires Data Stream - Demo"
   ]
  },
  {
   "cell_type": "markdown",
   "id": "57c569d9",
   "metadata": {},
   "source": [
    "This notebook demonstrates the main functions in `data_streaming_prj.py`. It creates a grid of simulated IoT nodes and visualizes their data."
   ]
  },
  {
   "cell_type": "code",
   "execution_count": null,
   "id": "d1156ceb",
   "metadata": {},
   "outputs": [],
   "source": [
    "from data_streaming_prj import (\n",
    "    initialize_nodes_center_grid,\n",
    "    visualize_nodes_folium,\n",
    "    visualize_temperature_heatmap,\n",
    "    visualize_metric_folium,\n",
    "    visualize_wind_vectors\n",
    ")\n"
   ]
  },
  {
   "cell_type": "code",
   "execution_count": null,
   "id": "0c4d3cc7",
   "metadata": {},
   "outputs": [],
   "source": [
    "nodes = initialize_nodes_center_grid(\n",
    "    grid_size=5,\n",
    "    center_lat=34.0522,\n",
    "    center_long=-118.2437,\n",
    "    lat_spread=0.02,\n",
    "    lon_spread=0.02,\n",
    "    wind_direction=\"NE\"\n",
    ")\n",
    "nodes[:2]  # show a couple of nodes"
   ]
  },
  {
   "cell_type": "code",
   "execution_count": null,
   "id": "1931c169",
   "metadata": {},
   "outputs": [],
   "source": [
    "visualize_nodes_folium(nodes)"
   ]
  },
  {
   "cell_type": "code",
   "execution_count": null,
   "id": "7af2046a",
   "metadata": {},
   "outputs": [],
   "source": [
    "visualize_temperature_heatmap(nodes)"
   ]
  },
  {
   "cell_type": "code",
   "execution_count": null,
   "id": "f23af027",
   "metadata": {},
   "outputs": [],
   "source": [
    "visualize_metric_folium(nodes, \"humidity\")"
   ]
  },
  {
   "cell_type": "code",
   "execution_count": null,
   "id": "d9bebe67",
   "metadata": {},
   "outputs": [],
   "source": [
    "visualize_wind_vectors(nodes)"
   ]
  }
 ],
 "metadata": {
  "kernelspec": {
   "display_name": "Python 3",
   "language": "python",
   "name": "python3"
  },
  "language_info": {
   "name": "python",
   "version": "3.8"
  }
 },
 "nbformat": 4,
 "nbformat_minor": 5
}
